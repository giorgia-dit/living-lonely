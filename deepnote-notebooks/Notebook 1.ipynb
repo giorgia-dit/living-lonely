{
  "cells": [
    {
      "cell_type": "code",
      "source": "import pandas as pd",
      "metadata": {
        "source_hash": null,
        "execution_start": 1727459276290,
        "execution_millis": 97,
        "deepnote_to_be_reexecuted": false,
        "cell_id": "d8885cd501de422dbaff32f66a831906",
        "deepnote_cell_type": "code"
      },
      "outputs": [],
      "outputs_reference": null,
      "execution_count": null,
      "block_group": "d8885cd501de422dbaff32f66a831906",
      "content_dependencies": null
    },
    {
      "cell_type": "code",
      "source": "oneperson_households = pd.read_csv('data/one-person-households-edit.csv', delimiter=';')\ntrust_attitudes = pd.read_csv('data/self-reported-trust-attitudes-edit.csv', delimiter=';')\ngdp_per_capita = pd.read_csv('data/gdp-per-capita-edit.csv', delimiter=';')\npopulation = pd.read_csv('data/population-edit.csv', delimiter=';')\ndivorces = pd.read_csv('data/divorces-edit.csv', delimiter=';')\nmarriages = pd.read_csv('data/marriages-edit.csv', delimiter=';')",
      "metadata": {
        "source_hash": null,
        "execution_start": 1727459276290,
        "execution_millis": 1466,
        "deepnote_to_be_reexecuted": false,
        "cell_id": "d271140ff32e4be39bafba42e46c74df",
        "deepnote_cell_type": "code"
      },
      "outputs": [],
      "outputs_reference": null,
      "execution_count": null,
      "block_group": "6b49aa3b0c354cf690e0518c75c5e0ce",
      "content_dependencies": null
    },
    {
      "cell_type": "code",
      "source": "oneperson_households",
      "metadata": {
        "source_hash": null,
        "execution_start": 1727459277762,
        "execution_millis": 154,
        "deepnote_to_be_reexecuted": false,
        "cell_id": "bd067925bc4949959dd64351da91370e",
        "deepnote_cell_type": "code"
      },
      "outputs": [],
      "outputs_reference": null,
      "execution_count": null,
      "block_group": "b550990f71c94a59ae6ab37661522bce",
      "content_dependencies": null
    },
    {
      "cell_type": "code",
      "source": "gdp_per_capita_melt = (\n    gdp_per_capita\n        .rename(columns={'Country Name': 'Entity', 'Country Code': 'Code'})\n        .drop(columns=['Indicator Name', 'Indicator Code', 'Unnamed: 68'])\n        .melt(id_vars=['Entity', 'Code'], var_name='Year', value_name='GDP per Capita (current US$')\n        .astype({'Year': 'int64'})\n)\n\ngdp_per_capita_melt.head()",
      "metadata": {
        "source_hash": null,
        "execution_start": 1727459277864,
        "execution_millis": 240,
        "deepnote_table_state": {
          "sortBy": [
            {
              "id": "Share of one person households",
              "type": "desc"
            }
          ],
          "filters": [],
          "pageSize": 10,
          "pageIndex": 2,
          "conditionalFilters": []
        },
        "deepnote_table_loading": false,
        "deepnote_to_be_reexecuted": false,
        "cell_id": "24c66014ef8d4e3180dc936b642d32b7",
        "deepnote_cell_type": "code"
      },
      "outputs": [],
      "outputs_reference": null,
      "execution_count": null,
      "block_group": "50344ab0d3d74003beae49a14c911141",
      "content_dependencies": null
    },
    {
      "cell_type": "code",
      "source": "df_step1 = pd.merge(oneperson_households, gdp_per_capita_melt,\n                       on=['Year', 'Code', 'Entity'], \n                       how='inner')",
      "metadata": {
        "source_hash": null,
        "execution_start": 1727459277930,
        "execution_millis": 328,
        "deepnote_table_state": {
          "sortBy": [
            {
              "id": "Year",
              "type": "desc"
            }
          ],
          "filters": [],
          "pageSize": 10,
          "pageIndex": 0,
          "conditionalFilters": []
        },
        "deepnote_table_loading": false,
        "deepnote_to_be_reexecuted": false,
        "cell_id": "acf197d53e444f9abc1523fb42166053",
        "deepnote_cell_type": "code"
      },
      "outputs": [],
      "outputs_reference": null,
      "execution_count": null,
      "block_group": "cfa413b9ceb24ef19e63e82d1683cceb",
      "content_dependencies": null
    },
    {
      "cell_type": "code",
      "source": "population_melt = (\n    population\n        .rename(columns={'Country Name': 'Entity', 'Country Code': 'Code'})\n        .drop(columns=['Indicator Name', 'Indicator Code', 'Unnamed: 68'])\n        .melt(id_vars=['Entity', 'Code'], var_name='Year', value_name='Population')\n        .astype({'Year': 'int64'})\n)",
      "metadata": {
        "source_hash": null,
        "execution_start": 1727459277952,
        "execution_millis": 306,
        "deepnote_to_be_reexecuted": false,
        "cell_id": "69b76a31f6f94522964f74b620dc493e",
        "deepnote_cell_type": "code"
      },
      "outputs": [],
      "outputs_reference": null,
      "execution_count": null,
      "block_group": "bd2d94297d0d49209a0583a41f51a9f4",
      "content_dependencies": null
    },
    {
      "cell_type": "code",
      "source": "df_step2 = pd.merge(df_step1, population_melt,\n                       on=['Year', 'Code', 'Entity'], \n                       how='inner')\n\ndf_step3 = pd.merge(df_step2, marriages,\n                       on=['Year', 'Code', 'Entity'], \n                       how='left')\n\ndf_complete = pd.merge(df_step3, divorces,\n                       on=['Year', 'Code', 'Entity'], \n                       how='left')\n\ncountry_with_2018 = df_complete[df_complete['Year'] == 2018]['Entity'].unique()\n\ndf_complete = (\n    df_complete[df_complete['Entity'].isin(country_with_2018)].rename(\n        columns={'Crude marriage rate (per 1,000 inhabitants)': 'Marriage rate (per 1,000)',\n             'Crude divorce rate (per 1,000 inhabitants)': 'Divorce rate (per 1,000)',\n             'Entity': 'Country'}\n    )\n    .copy()\n)\n\ndf_complete = df_complete[df_complete[\"Year\"] >= 2000].copy()\n\nall_years = pd.DataFrame({'Year': range(2000, 2019)})\ncountries = df_complete['Country'].unique()\ncountries_df = pd.DataFrame({'Country': countries})\nfull_index = countries_df.merge(all_years, how='cross')\n\ndf_final = pd.merge(full_index, df_complete, on=['Country', 'Year'], how='left')\n\ndf_final['Share of one person households'] = df_final['Share of one person households'].fillna(0).copy()\n\ndf_final",
      "metadata": {
        "source_hash": null,
        "execution_start": 1727459333859,
        "execution_millis": 217,
        "deepnote_table_state": {
          "sortBy": [
            {
              "id": "Year",
              "type": "asc"
            }
          ],
          "filters": [],
          "pageSize": 10,
          "pageIndex": 53,
          "conditionalFilters": []
        },
        "deepnote_table_loading": false,
        "deepnote_to_be_reexecuted": false,
        "cell_id": "31a5d6cb624c43f0aaff308d1ce3f12b",
        "deepnote_cell_type": "code"
      },
      "outputs": [],
      "outputs_reference": null,
      "execution_count": null,
      "block_group": "352e33ac673742c1b58ca897daced439",
      "content_dependencies": null
    },
    {
      "cell_type": "code",
      "source": "df_final.to_csv('data/df_complete.csv', index=False)",
      "metadata": {
        "source_hash": null,
        "execution_start": 1727459354094,
        "execution_millis": 426,
        "deepnote_to_be_reexecuted": false,
        "cell_id": "b32ef411739a4cfeb0527fd7199bbf38",
        "deepnote_cell_type": "code"
      },
      "outputs": [],
      "outputs_reference": null,
      "execution_count": null,
      "block_group": "fd84a8bcb17c46f89dfd27190db37d23",
      "content_dependencies": null
    },
    {
      "cell_type": "markdown",
      "source": "<a style='text-decoration:none;line-height:16px;display:flex;color:#5B5B62;padding:10px;justify-content:end;' href='https://deepnote.com?utm_source=created-in-deepnote-cell&projectId=74a8de96-ace1-4d06-94a9-e911afda420a' target=\"_blank\">\n<img alt='Created in deepnote.com' style='display:inline;max-height:16px;margin:0px;margin-right:7.5px;' src='data:image/svg+xml;base64,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' > </img>\nCreated in <span style='font-weight:600;margin-left:4px;'>Deepnote</span></a>",
      "metadata": {
        "created_in_deepnote_cell": true,
        "deepnote_cell_type": "markdown"
      }
    }
  ],
  "nbformat": 4,
  "nbformat_minor": 0,
  "metadata": {
    "deepnote_notebook_id": "4528c7f1257046cda577da59ab283e13",
    "deepnote_execution_queue": []
  }
}